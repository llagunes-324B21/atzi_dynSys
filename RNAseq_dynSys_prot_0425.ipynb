{
 "cells": [
  {
   "cell_type": "code",
   "execution_count": null,
   "id": "4b98fc16",
   "metadata": {},
   "outputs": [],
   "source": [
    "# This is the start of a new code to analyze RNA-seq bulk data from a normalized table downloaded from:\n",
    "# https://www.ncbi.nlm.nih.gov/geo/query/acc.cgi?acc=GSE145936\n",
    "\n",
    "# DATE: April 26, 2024\n",
    "# LAST MODIFIED ON:  April 26, 2024\n",
    "# BY: Leo Lagunes\n",
    "\n",
    "# The goal of this script is to plot the gene expression leves of proteasome genes and Rpn4 over time \n",
    "# In the study this data came from, they heat-shocked yeast and measured gene expression levels at different time points:\n",
    "# \"We performed 12 RNA seq of polyA+ mRNA from yeast cells over two time courses: following heat shock at 39C and following \n",
    "    # nuclear depletion of the J-protein Sis1 using the \"anchor away\" approach. For both time series, the time points were \n",
    "    # 0, 15, 30, 60, 90 and 120 minutes.\"\n",
    "     "
   ]
  },
  {
   "cell_type": "code",
   "execution_count": 1,
   "id": "724c6243",
   "metadata": {},
   "outputs": [
    {
     "name": "stdout",
     "output_type": "stream",
     "text": [
      "All packages loaded on  04/26/2024 01:07 PM\n"
     ]
    }
   ],
   "source": [
    "# === PACKAGES NEEDED === \n",
    "\n",
    "import numpy as np # for mathematical computing\n",
    "from scipy.integrate import odeint # for ode solving\n",
    "import matplotlib.pyplot as plt # for plotting \n",
    "import math  # for other math functions\n",
    "from scipy.integrate import solve_ivp  # for ode solving\n",
    "import seaborn as sns # for the heatmaps\n",
    "from datetime import date # to print date\n",
    "from datetime import datetime # to print data\n",
    "\n",
    "# datetime object containing current date and time\n",
    "now = datetime.now()\n",
    "dt_string = now.strftime(\"%m/%d/%Y %I:%M %p\")\n",
    "\n",
    "print('All packages loaded on ', dt_string)\n"
   ]
  },
  {
   "cell_type": "code",
   "execution_count": null,
   "id": "0634305d",
   "metadata": {},
   "outputs": [],
   "source": [
    "# ==== FUNCTIONS ===\n",
    "# These are all the user-defined functions I will need\n",
    "\n",
    "# testing a change for github\n",
    "\n",
    "\n",
    "print('All function ready on ', dt_string)"
   ]
  },
  {
   "cell_type": "code",
   "execution_count": null,
   "id": "b0a22a35",
   "metadata": {},
   "outputs": [],
   "source": [
    "# === RUNNING CODE ===\n",
    "# This is the code I will need to run to get that time course "
   ]
  }
 ],
 "metadata": {
  "kernelspec": {
   "display_name": "Python 3",
   "language": "python",
   "name": "python3"
  },
  "language_info": {
   "codemirror_mode": {
    "name": "ipython",
    "version": 3
   },
   "file_extension": ".py",
   "mimetype": "text/x-python",
   "name": "python",
   "nbconvert_exporter": "python",
   "pygments_lexer": "ipython3",
   "version": "3.8.8"
  }
 },
 "nbformat": 4,
 "nbformat_minor": 5
}
